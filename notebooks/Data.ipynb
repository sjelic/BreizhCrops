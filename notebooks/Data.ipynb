{
 "cells": [
  {
   "cell_type": "code",
   "execution_count": 15,
   "metadata": {},
   "outputs": [],
   "source": [
    "import numpy as np\n",
    "from sklearn.model_selection import train_test_split\n",
    "import os"
   ]
  },
  {
   "attachments": {},
   "cell_type": "markdown",
   "metadata": {},
   "source": [
    "# Data Loading"
   ]
  },
  {
   "cell_type": "code",
   "execution_count": 36,
   "metadata": {},
   "outputs": [],
   "source": [
    "X_sr = np.load('../data/X_sr.npy')\n",
    "y_sr = np.load('../data/y_sr.npy')"
   ]
  },
  {
   "cell_type": "code",
   "execution_count": 37,
   "metadata": {},
   "outputs": [],
   "source": [
    "def make_dataset_dir(path, country, name):\n",
    "        if os.path.isdir(os.path.join(path, country, name)):\n",
    "            filelist = [ f for f in os.listdir(os.path.join(path, country, name)) if f.endswith(\".npy\") ]\n",
    "            for f in filelist:\n",
    "                os.remove(os.path.join(os.path.join(path, country, name), f))\n",
    "            os.rmdir(os.path.join(path, country, name))\n",
    "            os.mkdir(os.path.join(path, country, name))\n",
    "        else:\n",
    "            os.mkdir(os.path.join(path, country, name))"
   ]
  },
  {
   "cell_type": "code",
   "execution_count": 38,
   "metadata": {},
   "outputs": [],
   "source": [
    "make_dataset_dir('../data', 'serbia', 'data_serbia')"
   ]
  },
  {
   "cell_type": "code",
   "execution_count": 39,
   "metadata": {},
   "outputs": [],
   "source": [
    "def create_dataset(path, country, name, X, y, filter_out):\n",
    "\n",
    "    indout = [idx for idx, cl in enumerate(y) if cl in filter_out]\n",
    "\n",
    "    X = np.array([x for idx, x in enumerate(X) if idx not in indout])\n",
    "    y = np.array([y for idx, y in enumerate(y) if idx not in indout])\n",
    "\n",
    "    # for s in set(y_sr_cleaned):\n",
    "    #     print(f\"{s} : {len(list(filter(lambda x: x==s, list(y_sr_cleaned))))}\")\n",
    "    np.save( os.path.join(path,country,name,'y.npy'), y)\n",
    "    for idx, x in enumerate(X):\n",
    "        np.save(os.path.join(path,country,name,f'{idx}.npy'), x)\n",
    "    return X, y"
   ]
  },
  {
   "cell_type": "code",
   "execution_count": 40,
   "metadata": {},
   "outputs": [],
   "source": [
    "X, y = create_dataset('../data', 'serbia', 'data_serbia',X_sr,y_sr,['not_defined', 'olives'])"
   ]
  },
  {
   "cell_type": "markdown",
   "metadata": {},
   "source": [
    "## Stratified splits for Vojvodina dataset"
   ]
  },
  {
   "cell_type": "code",
   "execution_count": 43,
   "metadata": {},
   "outputs": [],
   "source": [
    "X_0102, X_0304, y_0102, y_0304 = train_test_split(X, y, test_size=0.5, random_state=1, shuffle=True, stratify=y)\n",
    "X_01, X_02, y_01, y_02 = train_test_split(X_0102, y_0102, test_size=0.5, random_state=1, shuffle=True, stratify=y_0102)\n",
    "X_03, X_04, y_03, y_04 = train_test_split(X_0304, y_0304, test_size=0.5, random_state=1, shuffle=True, stratify=y_0304)\n",
    "\n",
    "make_dataset_dir('../data', 'serbia', 'data_serbia_01')\n",
    "_, _ = create_dataset('../data', 'serbia', 'data_serbia_01',X_01,y_01,[])\n",
    "\n",
    "make_dataset_dir('../data', 'serbia', 'data_serbia_02')\n",
    "_, _ = create_dataset('../data', 'serbia', 'data_serbia_02',X_02,y_02,[])\n",
    "\n",
    "make_dataset_dir('../data', 'serbia', 'data_serbia_03')\n",
    "_, _ = create_dataset('../data', 'serbia', 'data_serbia_03',X_03,y_03,[])\n",
    "\n",
    "make_dataset_dir('../data', 'serbia', 'data_serbia_04')\n",
    "_, _ = create_dataset('../data', 'serbia', 'data_serbia_04',X_04,y_04,[])\n",
    "\n"
   ]
  },
  {
   "cell_type": "code",
   "execution_count": 6,
   "metadata": {},
   "outputs": [
    {
     "name": "stdout",
     "output_type": "stream",
     "text": [
      "not_defined : 1\n",
      "sugarbeet : 14\n",
      "maize : 2108\n",
      "rapeseed : 63\n",
      "barley : 187\n",
      "soya : 234\n",
      "sunflower : 1033\n",
      "olives : 6\n",
      "wheat : 763\n"
     ]
    }
   ],
   "source": [
    "for s in set(y_sr):\n",
    "    print(f\"{s} : {len(list(filter(lambda x: x==s, list(y_sr))))}\")"
   ]
  },
  {
   "cell_type": "code",
   "execution_count": 30,
   "metadata": {},
   "outputs": [],
   "source": [
    "indout = [idx for idx, cl in enumerate(ssl) if cl in ['not_defined', 'olives', 'sugarbeet']]\n",
    "X_sr_cleaned = np.array([x for idx, x in enumerate(X_sr) if idx not in indout])\n",
    "y_sr_cleaned = np.array([y for idx, y in enumerate(y_sr) if idx not in indout])"
   ]
  }
 ],
 "metadata": {
  "kernelspec": {
   "display_name": "base",
   "language": "python",
   "name": "python3"
  },
  "language_info": {
   "codemirror_mode": {
    "name": "ipython",
    "version": 3
   },
   "file_extension": ".py",
   "mimetype": "text/x-python",
   "name": "python",
   "nbconvert_exporter": "python",
   "pygments_lexer": "ipython3",
   "version": "3.9.12"
  },
  "orig_nbformat": 4,
  "vscode": {
   "interpreter": {
    "hash": "d4d1e4263499bec80672ea0156c357c1ee493ec2b1c70f0acce89fc37c4a6abe"
   }
  }
 },
 "nbformat": 4,
 "nbformat_minor": 2
}
