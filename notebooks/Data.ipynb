{
 "cells": [
  {
   "cell_type": "code",
   "execution_count": 5,
   "metadata": {},
   "outputs": [],
   "source": [
    "import numpy as np\n",
    "from sklearn.model_selection import train_test_split\n",
    "import os"
   ]
  },
  {
   "attachments": {},
   "cell_type": "markdown",
   "metadata": {},
   "source": [
    "# Data Loading"
   ]
  },
  {
   "cell_type": "code",
   "execution_count": 6,
   "metadata": {},
   "outputs": [],
   "source": [
    "X_sr = np.load('../data/X_sr.npy')\n",
    "y_sr = np.load('../data/y_sr.npy')"
   ]
  },
  {
   "cell_type": "code",
   "execution_count": 7,
   "metadata": {},
   "outputs": [],
   "source": [
    "def make_dataset_dir(path, country, name):\n",
    "        if os.path.isdir(os.path.join(path, country, name)):\n",
    "            filelist = [ f for f in os.listdir(os.path.join(path, country, name)) if f.endswith(\".npy\") ]\n",
    "            for f in filelist:\n",
    "                os.remove(os.path.join(os.path.join(path, country, name), f))\n",
    "            os.rmdir(os.path.join(path, country, name))\n",
    "            os.mkdir(os.path.join(path, country, name))\n",
    "        else:\n",
    "            os.mkdir(os.path.join(path, country, name))"
   ]
  },
  {
   "cell_type": "code",
   "execution_count": 8,
   "metadata": {},
   "outputs": [],
   "source": [
    "def create_dataset(path, country, name, X, y, filter_out):\n",
    "\n",
    "    indout = [idx for idx, cl in enumerate(y) if cl in filter_out]\n",
    "\n",
    "    X = np.array([x for idx, x in enumerate(X) if idx not in indout])\n",
    "    y = np.array([y for idx, y in enumerate(y) if idx not in indout])\n",
    "\n",
    "    # for s in set(y_sr_cleaned):\n",
    "    #     print(f\"{s} : {len(list(filter(lambda x: x==s, list(y_sr_cleaned))))}\")\n",
    "    np.save( os.path.join(path,country,name,'y.npy'), y)\n",
    "    for idx, x in enumerate(X):\n",
    "        np.save(os.path.join(path,country,name,f'{idx}.npy'), x)\n",
    "    return X, y"
   ]
  },
  {
   "cell_type": "markdown",
   "metadata": {},
   "source": [
    "## Stratified splits for Vojvodina dataset"
   ]
  },
  {
   "cell_type": "code",
   "execution_count": 11,
   "metadata": {},
   "outputs": [],
   "source": [
    "def prepare_datasets(path, country, name, Xpath, ypath, filter_out):\n",
    "    X = np.load(Xpath)\n",
    "    y = np.load(ypath)\n",
    "    make_dataset_dir(path, country, name)\n",
    "    X, y = create_dataset(path, country, name,X,y,filter_out)\n",
    "    X_0102, X_0304, y_0102, y_0304 = train_test_split(X, y, test_size=0.5, random_state=1, shuffle=True, stratify=y)\n",
    "    X_01, X_02, y_01, y_02 = train_test_split(X_0102, y_0102, test_size=0.5, random_state=1, shuffle=True, stratify=y_0102)\n",
    "    X_03, X_04, y_03, y_04 = train_test_split(X_0304, y_0304, test_size=0.5, random_state=1, shuffle=True, stratify=y_0304)\n",
    "    \n",
    "    make_dataset_dir(path, country, f'{name}_01')\n",
    "    _, _ = create_dataset(path, country, f'{name}_01', X_01,y_01,[])\n",
    "\n",
    "    make_dataset_dir(path, country, f'{name}_02')\n",
    "    _, _ = create_dataset(path, country, f'{name}_02', X_02,y_02,[])\n",
    "\n",
    "    make_dataset_dir(path, country, f'{name}_03')\n",
    "    _, _ = create_dataset(path, country, f'{name}_03', X_03,y_03,[])\n",
    "\n",
    "    make_dataset_dir(path, country, f'{name}_04')\n",
    "    _, _ = create_dataset(path, country, f'{name}_04', X_04,y_04,[])\n",
    "        \n",
    "    \n",
    "    "
   ]
  },
  {
   "cell_type": "code",
   "execution_count": 10,
   "metadata": {},
   "outputs": [],
   "source": [
    "prepare_datasets('../data', 'serbia', 'data_serbia', '../data/X_sr.npy', '../data/y_sr.npy', ['not_defined', 'olives'])"
   ]
  },
  {
   "cell_type": "code",
   "execution_count": 48,
   "metadata": {},
   "outputs": [
    {
     "name": "stdout",
     "output_type": "stream",
     "text": [
      "sugarbeet : 14\n",
      "maize : 2108\n",
      "rapeseed : 63\n",
      "barley : 187\n",
      "soya : 234\n",
      "sunflower : 1033\n",
      "wheat : 763\n"
     ]
    }
   ],
   "source": [
    "for s in set(y):\n",
    "    print(f\"{s} : {len(list(filter(lambda x: x==s, list(y))))}\")"
   ]
  },
  {
   "cell_type": "code",
   "execution_count": 49,
   "metadata": {},
   "outputs": [
    {
     "data": {
      "text/plain": [
       "array(['soya', 'maize', 'wheat', ..., 'maize', 'maize', 'maize'],\n",
       "      dtype='<U9')"
      ]
     },
     "execution_count": 49,
     "metadata": {},
     "output_type": "execute_result"
    }
   ],
   "source": [
    "y"
   ]
  },
  {
   "cell_type": "code",
   "execution_count": 30,
   "metadata": {},
   "outputs": [],
   "source": [
    "indout = [idx for idx, cl in enumerate(ssl) if cl in ['not_defined', 'olives', 'sugarbeet']]\n",
    "X_sr_cleaned = np.array([x for idx, x in enumerate(X_sr) if idx not in indout])\n",
    "y_sr_cleaned = np.array([y for idx, y in enumerate(y_sr) if idx not in indout])"
   ]
  },
  {
   "cell_type": "code",
   "execution_count": 2,
   "metadata": {},
   "outputs": [
    {
     "ename": "ModuleNotFoundError",
     "evalue": "No module named 'datasets'",
     "output_type": "error",
     "traceback": [
      "\u001b[0;31m---------------------------------------------------------------------------\u001b[0m",
      "\u001b[0;31mModuleNotFoundError\u001b[0m                       Traceback (most recent call last)",
      "Cell \u001b[0;32mIn[2], line 1\u001b[0m\n\u001b[0;32m----> 1\u001b[0m \u001b[39mfrom\u001b[39;00m \u001b[39mgrfcrops\u001b[39;00m\u001b[39m.\u001b[39;00m\u001b[39mdatasets\u001b[39;00m\u001b[39m.\u001b[39;00m\u001b[39mvojvodina\u001b[39;00m \u001b[39mimport\u001b[39;00m VojvodinaDataset\n\u001b[1;32m      2\u001b[0m dataset \u001b[39m=\u001b[39m VojvodinaDataset(country\u001b[39m=\u001b[39m\u001b[39m'\u001b[39m\u001b[39mserbia\u001b[39m\u001b[39m'\u001b[39m, name\u001b[39m=\u001b[39m\u001b[39m'\u001b[39m\u001b[39mdata_serbia_01\u001b[39m\u001b[39m'\u001b[39m)\n",
      "File \u001b[0;32m/workdir/grfcrops/__init__.py:2\u001b[0m\n\u001b[1;32m      1\u001b[0m \u001b[39mfrom\u001b[39;00m \u001b[39m.\u001b[39;00m\u001b[39mdatasets\u001b[39;00m\u001b[39m.\u001b[39;00m\u001b[39mvojvodina\u001b[39;00m \u001b[39mimport\u001b[39;00m VojvodinaDataset\n\u001b[0;32m----> 2\u001b[0m \u001b[39mfrom\u001b[39;00m \u001b[39m.\u001b[39;00m\u001b[39mdatasets\u001b[39;00m\u001b[39m.\u001b[39;00m\u001b[39mbretagne\u001b[39;00m \u001b[39mimport\u001b[39;00m BretagneDataset\n\u001b[1;32m      3\u001b[0m \u001b[39mfrom\u001b[39;00m \u001b[39m.\u001b[39;00m\u001b[39mmodels\u001b[39;00m \u001b[39mimport\u001b[39;00m \u001b[39m*\u001b[39m\n",
      "File \u001b[0;32m/workdir/grfcrops/datasets/bretagne.py:1\u001b[0m\n\u001b[0;32m----> 1\u001b[0m \u001b[39mfrom\u001b[39;00m \u001b[39mdatasets\u001b[39;00m\u001b[39m.\u001b[39;00m\u001b[39mvojvodina\u001b[39;00m \u001b[39mimport\u001b[39;00m VojvodinaDataset\n\u001b[1;32m      2\u001b[0m \u001b[39mfrom\u001b[39;00m \u001b[39mbreizhcrops\u001b[39;00m\u001b[39m.\u001b[39;00m\u001b[39mdatasets\u001b[39;00m\u001b[39m.\u001b[39;00m\u001b[39mbreizhcrops\u001b[39;00m \u001b[39mimport\u001b[39;00m get_default_target_transform\n\u001b[1;32m      4\u001b[0m __all__ \u001b[39m=\u001b[39m [\u001b[39m'\u001b[39m\u001b[39mBretagneDataset\u001b[39m\u001b[39m'\u001b[39m]\n",
      "\u001b[0;31mModuleNotFoundError\u001b[0m: No module named 'datasets'"
     ]
    }
   ],
   "source": [
    "from grfcrops.datasets.vojvodina import VojvodinaDataset\n",
    "dataset = VojvodinaDataset(country='serbia', name='data_serbia_01')"
   ]
  },
  {
   "cell_type": "code",
   "execution_count": null,
   "metadata": {},
   "outputs": [],
   "source": []
  }
 ],
 "metadata": {
  "kernelspec": {
   "display_name": "base",
   "language": "python",
   "name": "python3"
  },
  "language_info": {
   "codemirror_mode": {
    "name": "ipython",
    "version": 3
   },
   "file_extension": ".py",
   "mimetype": "text/x-python",
   "name": "python",
   "nbconvert_exporter": "python",
   "pygments_lexer": "ipython3",
   "version": "3.10.8"
  },
  "orig_nbformat": 4,
  "vscode": {
   "interpreter": {
    "hash": "d4d1e4263499bec80672ea0156c357c1ee493ec2b1c70f0acce89fc37c4a6abe"
   }
  }
 },
 "nbformat": 4,
 "nbformat_minor": 2
}
