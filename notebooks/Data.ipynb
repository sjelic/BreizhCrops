{
 "cells": [
  {
   "cell_type": "code",
   "execution_count": 5,
   "metadata": {},
   "outputs": [],
   "source": [
    "import numpy as np\n",
    "from sklearn.model_selection import train_test_split"
   ]
  },
  {
   "attachments": {},
   "cell_type": "markdown",
   "metadata": {},
   "source": [
    "# Data Loading"
   ]
  },
  {
   "cell_type": "code",
   "execution_count": 3,
   "metadata": {},
   "outputs": [],
   "source": [
    "X_sr = np.load('../data/X_sr.npy')\n",
    "y_sr = np.load('../data/y_sr.npy')\n",
    "y_fr = np.load('../data/y.npy')"
   ]
  },
  {
   "cell_type": "code",
   "execution_count": 38,
   "metadata": {},
   "outputs": [],
   "source": [
    "indout_sr = [idx for idx, cl in enumerate(y_sr) if cl in ['not_defined', 'olives', 'sugarbeet']]\n",
    "indout_fr = [idx for idx, cl in enumerate(y_sr) if cl in ['not_defined', 'olives', 'sugarbeet']]\n",
    "\n",
    "X_sr_cleaned = np.array([x for idx, x in enumerate(X_sr) if idx not in indout_sr])\n",
    "y_sr_cleaned = np.array([y for idx, y in enumerate(y_sr) if idx not in indout_fr])\n",
    "\n",
    "# for s in set(y_sr_cleaned):\n",
    "#     print(f\"{s} : {len(list(filter(lambda x: x==s, list(y_sr_cleaned))))}\")\n",
    "np.save('../data/X_sr_cleaned.npy', X_sr_cleaned)\n",
    "np.save('../data/y_sr_cleaned.npy', y_sr_cleaned)"
   ]
  },
  {
   "cell_type": "markdown",
   "metadata": {},
   "source": [
    "## Stratified splits for Vojvodina dataset"
   ]
  },
  {
   "cell_type": "code",
   "execution_count": 42,
   "metadata": {},
   "outputs": [],
   "source": [
    "X_0102, X_0304, y_0102, y_0304 = train_test_split(X_sr_cleaned, y_sr_cleaned, test_size=0.5, random_state=1, shuffle=True, stratify=y_sr_cleaned)\n",
    "X_01, X_02, y_01, y_02 = train_test_split(X_0102, y_0102, test_size=0.5, random_state=1, shuffle=True, stratify=y_0102)\n",
    "X_03, X_04, y_03, y_04 = train_test_split(X_0304, y_0304, test_size=0.5, random_state=1, shuffle=True, stratify=y_0304)\n",
    "np.save('../data/X_sr_01.npy', X_01)\n",
    "np.save('../data/X_sr_02.npy', X_02)\n",
    "np.save('../data/X_sr_03.npy', X_03)\n",
    "np.save('../data/X_sr_04.npy', X_04)\n",
    "\n",
    "np.save('../data/y_sr_01.npy', y_01)\n",
    "np.save('../data/y_sr_02.npy', y_02)\n",
    "np.save('../data/y_sr_03.npy', y_03)\n",
    "np.save('../data/y_sr_04.npy', y_04)"
   ]
  },
  {
   "cell_type": "code",
   "execution_count": 41,
   "metadata": {},
   "outputs": [
    {
     "data": {
      "text/plain": [
       "2194"
      ]
     },
     "execution_count": 41,
     "metadata": {},
     "output_type": "execute_result"
    }
   ],
   "source": []
  },
  {
   "cell_type": "code",
   "execution_count": 4,
   "metadata": {},
   "outputs": [
    {
     "name": "stdout",
     "output_type": "stream",
     "text": [
      "0.0 : 36922\n",
      "1.0 : 89617\n",
      "2.0 : 14746\n",
      "3.0 : 153995\n",
      "4.0 : 19\n",
      "5.0 : 3054\n",
      "6.0 : 49\n",
      "7.0 : 127835\n",
      "8.0 : 182252\n"
     ]
    }
   ],
   "source": [
    "for s in set(y_fr):\n",
    "    print(f\"{s} : {len(list(filter(lambda x: x==s, list(y_fr))))}\")"
   ]
  },
  {
   "cell_type": "code",
   "execution_count": 30,
   "metadata": {},
   "outputs": [],
   "source": [
    "indout = [idx for idx, cl in enumerate(ssl) if cl in ['not_defined', 'olives', 'sugarbeet']]\n",
    "X_sr_cleaned = np.array([x for idx, x in enumerate(X_sr) if idx not in indout])\n",
    "y_sr_cleaned = np.array([y for idx, y in enumerate(y_sr) if idx not in indout])"
   ]
  }
 ],
 "metadata": {
  "kernelspec": {
   "display_name": "base",
   "language": "python",
   "name": "python3"
  },
  "language_info": {
   "codemirror_mode": {
    "name": "ipython",
    "version": 3
   },
   "file_extension": ".py",
   "mimetype": "text/x-python",
   "name": "python",
   "nbconvert_exporter": "python",
   "pygments_lexer": "ipython3",
   "version": "3.10.8 (main, Nov  4 2022, 13:48:29) [GCC 11.2.0]"
  },
  "orig_nbformat": 4,
  "vscode": {
   "interpreter": {
    "hash": "d4d1e4263499bec80672ea0156c357c1ee493ec2b1c70f0acce89fc37c4a6abe"
   }
  }
 },
 "nbformat": 4,
 "nbformat_minor": 2
}
