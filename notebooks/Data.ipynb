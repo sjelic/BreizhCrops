{
 "cells": [
  {
   "cell_type": "code",
   "execution_count": 16,
   "metadata": {},
   "outputs": [],
   "source": [
    "import numpy as np\n",
    "from sklearn.model_selection import train_test_split\n",
    "import os"
   ]
  },
  {
   "attachments": {},
   "cell_type": "markdown",
   "metadata": {},
   "source": [
    "# Data Loading"
   ]
  },
  {
   "cell_type": "code",
   "execution_count": 32,
   "metadata": {},
   "outputs": [],
   "source": [
    "X_sr = np.load('../data/X_sr.npy')\n",
    "y_sr = np.load('../data/y_sr.npy')"
   ]
  },
  {
   "cell_type": "code",
   "execution_count": 33,
   "metadata": {},
   "outputs": [],
   "source": [
    "def make_dataset_dir(path, country, name):\n",
    "        if os.path.isdir(os.path.join(path, country, name)):\n",
    "            filelist = [ f for f in os.listdir(os.path.join(path, country, name)) if f.endswith(\".npy\") ]\n",
    "            for f in filelist:\n",
    "                os.remove(os.path.join(os.path.join(path, country, name), f))\n",
    "            os.rmdir(os.path.join(path, country, name))\n",
    "            os.mkdir(os.path.join(path, country, name))\n",
    "        else:\n",
    "            os.mkdir(os.path.join(path, country, name))"
   ]
  },
  {
   "cell_type": "code",
   "execution_count": 7,
   "metadata": {},
   "outputs": [],
   "source": [
    "make_dataset_dir('../data', 'serbia', 'data_serbia')"
   ]
  },
  {
   "cell_type": "code",
   "execution_count": 34,
   "metadata": {},
   "outputs": [],
   "source": [
    "def create_dataset(path, country, name, X, y, filter_out):\n",
    "\n",
    "    indout = [idx for idx, cl in enumerate(y) if cl in filter_out]\n",
    "\n",
    "    X = np.array([x for idx, x in enumerate(X) if idx not in indout])\n",
    "    y = np.array([y for idx, y in enumerate(y) if idx not in indout])\n",
    "  \n",
    "    \n",
    "    \n",
    "    \n",
    "    # for s in set(y_sr_cleaned):\n",
    "    #     print(f\"{s} : {len(list(filter(lambda x: x==s, list(y_sr_cleaned))))}\")\n",
    "    np.save( os.path.join(path,country,name,'y.npy'), y)\n",
    "    for idx, x in enumerate(X):\n",
    "        np.save(os.path.join(path,country,name,f'{idx}.npy'), x)\n",
    "    return X, y"
   ]
  },
  {
   "cell_type": "code",
   "execution_count": 8,
   "metadata": {},
   "outputs": [],
   "source": [
    "X, y = create_dataset('../data', 'serbia', 'data_serbia', X_sr, y_sr, ['not_defined', 'olives'])"
   ]
  },
  {
   "cell_type": "code",
   "execution_count": 30,
   "metadata": {},
   "outputs": [],
   "source": [
    "_mean = X.mean(axis=0)\n",
    "_min = X.min(axis=0)\n",
    "_max = X.max(axis=0)\n",
    "_len = X.shape[0]"
   ]
  },
  {
   "cell_type": "code",
   "execution_count": 31,
   "metadata": {},
   "outputs": [
    {
     "data": {
      "text/plain": [
       "array([[[ 5.88276241e-03,  7.09592522e-03,  1.21294246e-02, ...,\n",
       "          2.01489704e-02,  1.45921118e-01,  5.71900176e-03],\n",
       "        [ 1.17280050e-02,  1.27225478e-02,  1.82442349e-02, ...,\n",
       "          3.24794918e-02,  1.37379666e-01,  1.02349458e-02],\n",
       "        [-5.56855509e-03, -1.37597107e-03,  2.04436577e-04, ...,\n",
       "          5.47383632e-02,  1.33025246e-01, -6.27011551e-02],\n",
       "        ...,\n",
       "        [-1.35654252e-02, -1.45089999e-02, -2.14076125e-02, ...,\n",
       "          7.30200820e-02,  2.35339478e-01, -1.41642358e-01],\n",
       "        [-1.49669812e-02, -1.51074785e-02, -1.97823744e-02, ...,\n",
       "          6.66024832e-02,  2.05308021e-01, -1.37896727e-01],\n",
       "        [-1.87320494e-02, -1.80166778e-02, -2.05614757e-02, ...,\n",
       "          6.32202514e-02,  1.88875063e-01, -1.37355418e-01]],\n",
       "\n",
       "       [[ 7.79276241e-03,  8.88842522e-03,  1.72344246e-02, ...,\n",
       "         -3.01210686e-02, -5.99993256e-02,  4.80987112e-02],\n",
       "        [ 3.68371925e-03,  3.41969070e-03,  9.73994917e-03, ...,\n",
       "         -1.18393463e-02, -6.16009122e-02,  3.39208991e-02],\n",
       "        [ 4.89751633e-03,  3.14760036e-03,  7.79086515e-03, ...,\n",
       "         -1.04154289e-02, -3.75572218e-02,  3.36608778e-02],\n",
       "        ...,\n",
       "        [-1.77154252e-02, -9.66899994e-03, -3.68276125e-02, ...,\n",
       "          1.41614712e-01,  2.88029147e-01, -2.28667306e-01],\n",
       "        [-2.06044812e-02, -1.08974785e-02, -3.54123744e-02, ...,\n",
       "          1.34280211e-01,  2.69292756e-01, -2.34494623e-01],\n",
       "        [-2.53257994e-02, -1.42116778e-02, -3.63264757e-02, ...,\n",
       "          1.30308542e-01,  2.60120912e-01, -2.40107353e-01]],\n",
       "\n",
       "       [[ 7.55526241e-03,  1.63284252e-02,  8.82275797e-03, ...,\n",
       "          3.79301575e-03,  8.06492220e-02,  3.42325087e-03],\n",
       "        [ 8.88657639e-03,  1.66011193e-02,  1.08713777e-02, ...,\n",
       "          1.42351769e-02,  7.95458973e-02, -1.73765109e-03],\n",
       "        [ 7.63894491e-03,  1.16018861e-02,  6.27086515e-03, ...,\n",
       "          5.49160648e-03,  6.42653645e-02,  5.02715399e-03],\n",
       "        ...,\n",
       "        [ 9.38457478e-03,  1.15310001e-02,  1.73723875e-02, ...,\n",
       "         -1.14260250e-02, -1.00271501e-03,  4.04288901e-02],\n",
       "        [ 6.49551882e-03,  1.03025215e-02,  1.87876256e-02, ...,\n",
       "         -1.87605262e-02, -1.97391056e-02,  3.46015727e-02],\n",
       "        [ 1.77420061e-03,  6.98832223e-03,  1.78735243e-02, ...,\n",
       "         -2.27321952e-02, -2.89109498e-02,  2.89888436e-02]],\n",
       "\n",
       "       ...,\n",
       "\n",
       "       [[-1.30647376e-02, -1.76965748e-02, -2.41655754e-02, ...,\n",
       "          4.14080919e-02, -3.89080602e-02,  8.63899581e-02],\n",
       "        [-1.24705665e-02, -1.87903093e-02, -2.33786223e-02, ...,\n",
       "         -6.77710161e-03, -5.51526411e-02,  7.70108125e-02],\n",
       "        [-2.27696265e-02, -2.43652568e-02, -2.63491349e-02, ...,\n",
       "         -4.37177787e-03, -7.64739737e-02,  4.73211694e-02],\n",
       "        ...,\n",
       "        [ 3.89845748e-02,  4.79952858e-02,  7.47152447e-02, ...,\n",
       "          4.42739589e-02,  3.34492516e-02,  5.07442384e-02],\n",
       "        [ 3.33812331e-02,  4.00382357e-02,  6.95076256e-02, ...,\n",
       "          2.08753536e-02, -1.16471066e-02,  3.88985643e-02],\n",
       "        [ 2.50075339e-02,  3.11549889e-02,  5.99868577e-02, ...,\n",
       "          6.85341095e-03, -4.04421750e-02,  3.89880706e-02]],\n",
       "\n",
       "       [[-7.96473759e-03, -1.05965748e-02, -1.45655754e-02, ...,\n",
       "          3.73304854e-02, -4.13356785e-03,  9.72160842e-02],\n",
       "        [-8.49913790e-03, -1.34117379e-02, -1.54571937e-02, ...,\n",
       "         -4.65659878e-03, -2.65498954e-02,  7.84182923e-02],\n",
       "        [-1.84910551e-02, -1.96152568e-02, -1.91919920e-02, ...,\n",
       "          1.14242115e-03, -6.73427178e-02,  4.16857425e-02],\n",
       "        ...,\n",
       "        [ 2.09560033e-02,  2.25095715e-02,  3.76581018e-02, ...,\n",
       "          3.06593315e-02,  1.57062151e-02,  6.63117299e-02],\n",
       "        [ 5.31551882e-03,  3.15378600e-04,  1.17561970e-02, ...,\n",
       "          7.51912408e-03, -4.67620745e-02,  7.96314566e-02],\n",
       "        [ 4.20867272e-04, -3.23167777e-03,  1.16001910e-02, ...,\n",
       "         -3.31543632e-03, -8.63817181e-02,  6.40932033e-02]],\n",
       "\n",
       "       [[-9.76473759e-03, -1.31965748e-02, -1.77655754e-02, ...,\n",
       "          3.82292508e-02, -1.32258676e-02,  9.11831303e-02],\n",
       "        [-9.48485218e-03, -1.49617379e-02, -1.74286223e-02, ...,\n",
       "         -1.18849109e-03, -4.02411737e-02,  7.23501655e-02],\n",
       "        [-2.05374837e-02, -2.15331139e-02, -2.22134206e-02, ...,\n",
       "         -8.78968539e-04, -7.40545100e-02,  3.75602953e-02],\n",
       "        ...,\n",
       "        [ 1.21560033e-02,  1.12167143e-02,  1.80009590e-02, ...,\n",
       "          1.19391449e-02, -1.03876121e-02,  8.50620254e-02],\n",
       "        [-4.99940599e-03, -1.47377041e-02, -1.31900060e-02, ...,\n",
       "         -2.37942906e-02, -6.16374110e-02,  1.00507735e-01],\n",
       "        [-1.63843520e-02, -2.60485199e-02, -2.14021336e-02, ...,\n",
       "         -4.13737217e-02, -9.72874305e-02,  6.28915080e-02]]])"
      ]
     },
     "execution_count": 31,
     "metadata": {},
     "output_type": "execute_result"
    }
   ],
   "source": [
    "X-_mean"
   ]
  },
  {
   "cell_type": "markdown",
   "metadata": {},
   "source": [
    "## Stratified splits for Vojvodina dataset"
   ]
  },
  {
   "cell_type": "code",
   "execution_count": 35,
   "metadata": {},
   "outputs": [],
   "source": [
    "def prepare_datasets(path, country, name, Xpath, ypath, filter_out):\n",
    "    X = np.load(Xpath)\n",
    "    y = np.load(ypath)\n",
    "    make_dataset_dir(path, country, name)\n",
    "    X, y = create_dataset(path, country, name,X,y,filter_out)\n",
    "    _mean = X.mean(axis=0)\n",
    "    _std = X.std(axis=0)\n",
    "    _min = X.min(axis=0)\n",
    "    _max = X.max(axis=0)\n",
    "    _len = X.shape[0]\n",
    "    np.save( os.path.join(path,country,'mean.npy'), _mean)\n",
    "    np.save( os.path.join(path,country,'std.npy'), _std)\n",
    "    np.save( os.path.join(path,country,'min.npy'), _min)\n",
    "    np.save( os.path.join(path,country,'max.npy'), _max)\n",
    "    np.save( os.path.join(path,country,'len.npy'), _len)\n",
    "    \n",
    "    \n",
    "    make_dataset_dir(path, country, name)\n",
    "    X, y = create_dataset(path, country, name,(X - _mean)/(_len*_std),y,[])\n",
    "    \n",
    "    \n",
    "    X_0102, X_0304, y_0102, y_0304 = train_test_split(X, y, test_size=0.5, random_state=1, shuffle=True, stratify=y)\n",
    "    X_01, X_02, y_01, y_02 = train_test_split(X_0102, y_0102, test_size=0.5, random_state=1, shuffle=True, stratify=y_0102)\n",
    "    X_03, X_04, y_03, y_04 = train_test_split(X_0304, y_0304, test_size=0.5, random_state=1, shuffle=True, stratify=y_0304)\n",
    "    \n",
    "    make_dataset_dir(path, country, f'{name}_01')\n",
    "    _, _ = create_dataset(path, country, f'{name}_01', (X_01 - _mean)/(_len*_std),y_01,[])\n",
    "\n",
    "    make_dataset_dir(path, country, f'{name}_02')\n",
    "    _, _ = create_dataset(path, country, f'{name}_02', (X_02 - _mean)/(_len*_std),y_02,[])\n",
    "\n",
    "    make_dataset_dir(path, country, f'{name}_03')\n",
    "    _, _ = create_dataset(path, country, f'{name}_03', (X_03 - _mean)/(_len*_std),y_03,[])\n",
    "\n",
    "    make_dataset_dir(path, country, f'{name}_04')\n",
    "    _, _ = create_dataset(path, country, f'{name}_04', (X_04 - _mean)/(_len*_std),y_04,[])\n",
    "        \n",
    "    \n",
    "    "
   ]
  },
  {
   "cell_type": "code",
   "execution_count": 36,
   "metadata": {},
   "outputs": [],
   "source": [
    "prepare_datasets('../data', 'serbia', 'data_serbia', '../data/X_sr.npy', '../data/y_sr.npy', ['not_defined', 'olives'])"
   ]
  },
  {
   "cell_type": "code",
   "execution_count": 48,
   "metadata": {},
   "outputs": [
    {
     "name": "stdout",
     "output_type": "stream",
     "text": [
      "sugarbeet : 14\n",
      "maize : 2108\n",
      "rapeseed : 63\n",
      "barley : 187\n",
      "soya : 234\n",
      "sunflower : 1033\n",
      "wheat : 763\n"
     ]
    }
   ],
   "source": [
    "for s in set(y):\n",
    "    print(f\"{s} : {len(list(filter(lambda x: x==s, list(y))))}\")"
   ]
  },
  {
   "cell_type": "code",
   "execution_count": 49,
   "metadata": {},
   "outputs": [
    {
     "data": {
      "text/plain": [
       "array(['soya', 'maize', 'wheat', ..., 'maize', 'maize', 'maize'],\n",
       "      dtype='<U9')"
      ]
     },
     "execution_count": 49,
     "metadata": {},
     "output_type": "execute_result"
    }
   ],
   "source": [
    "y"
   ]
  },
  {
   "cell_type": "code",
   "execution_count": 30,
   "metadata": {},
   "outputs": [],
   "source": [
    "indout = [idx for idx, cl in enumerate(ssl) if cl in ['not_defined', 'olives', 'sugarbeet']]\n",
    "X_sr_cleaned = np.array([x for idx, x in enumerate(X_sr) if idx not in indout])\n",
    "y_sr_cleaned = np.array([y for idx, y in enumerate(y_sr) if idx not in indout])"
   ]
  },
  {
   "cell_type": "code",
   "execution_count": 2,
   "metadata": {},
   "outputs": [
    {
     "ename": "ModuleNotFoundError",
     "evalue": "No module named 'datasets'",
     "output_type": "error",
     "traceback": [
      "\u001b[0;31m---------------------------------------------------------------------------\u001b[0m",
      "\u001b[0;31mModuleNotFoundError\u001b[0m                       Traceback (most recent call last)",
      "Cell \u001b[0;32mIn[2], line 1\u001b[0m\n\u001b[0;32m----> 1\u001b[0m \u001b[39mfrom\u001b[39;00m \u001b[39mgrfcrops\u001b[39;00m\u001b[39m.\u001b[39;00m\u001b[39mdatasets\u001b[39;00m\u001b[39m.\u001b[39;00m\u001b[39mvojvodina\u001b[39;00m \u001b[39mimport\u001b[39;00m VojvodinaDataset\n\u001b[1;32m      2\u001b[0m dataset \u001b[39m=\u001b[39m VojvodinaDataset(country\u001b[39m=\u001b[39m\u001b[39m'\u001b[39m\u001b[39mserbia\u001b[39m\u001b[39m'\u001b[39m, name\u001b[39m=\u001b[39m\u001b[39m'\u001b[39m\u001b[39mdata_serbia_01\u001b[39m\u001b[39m'\u001b[39m)\n",
      "File \u001b[0;32m/workdir/grfcrops/__init__.py:2\u001b[0m\n\u001b[1;32m      1\u001b[0m \u001b[39mfrom\u001b[39;00m \u001b[39m.\u001b[39;00m\u001b[39mdatasets\u001b[39;00m\u001b[39m.\u001b[39;00m\u001b[39mvojvodina\u001b[39;00m \u001b[39mimport\u001b[39;00m VojvodinaDataset\n\u001b[0;32m----> 2\u001b[0m \u001b[39mfrom\u001b[39;00m \u001b[39m.\u001b[39;00m\u001b[39mdatasets\u001b[39;00m\u001b[39m.\u001b[39;00m\u001b[39mbretagne\u001b[39;00m \u001b[39mimport\u001b[39;00m BretagneDataset\n\u001b[1;32m      3\u001b[0m \u001b[39mfrom\u001b[39;00m \u001b[39m.\u001b[39;00m\u001b[39mmodels\u001b[39;00m \u001b[39mimport\u001b[39;00m \u001b[39m*\u001b[39m\n",
      "File \u001b[0;32m/workdir/grfcrops/datasets/bretagne.py:1\u001b[0m\n\u001b[0;32m----> 1\u001b[0m \u001b[39mfrom\u001b[39;00m \u001b[39mdatasets\u001b[39;00m\u001b[39m.\u001b[39;00m\u001b[39mvojvodina\u001b[39;00m \u001b[39mimport\u001b[39;00m VojvodinaDataset\n\u001b[1;32m      2\u001b[0m \u001b[39mfrom\u001b[39;00m \u001b[39mbreizhcrops\u001b[39;00m\u001b[39m.\u001b[39;00m\u001b[39mdatasets\u001b[39;00m\u001b[39m.\u001b[39;00m\u001b[39mbreizhcrops\u001b[39;00m \u001b[39mimport\u001b[39;00m get_default_target_transform\n\u001b[1;32m      4\u001b[0m __all__ \u001b[39m=\u001b[39m [\u001b[39m'\u001b[39m\u001b[39mBretagneDataset\u001b[39m\u001b[39m'\u001b[39m]\n",
      "\u001b[0;31mModuleNotFoundError\u001b[0m: No module named 'datasets'"
     ]
    }
   ],
   "source": [
    "from grfcrops.datasets.vojvodina import VojvodinaDataset\n",
    "dataset = VojvodinaDataset(country='serbia', name='data_serbia_01')"
   ]
  },
  {
   "cell_type": "code",
   "execution_count": null,
   "metadata": {},
   "outputs": [],
   "source": []
  }
 ],
 "metadata": {
  "kernelspec": {
   "display_name": "base",
   "language": "python",
   "name": "python3"
  },
  "language_info": {
   "codemirror_mode": {
    "name": "ipython",
    "version": 3
   },
   "file_extension": ".py",
   "mimetype": "text/x-python",
   "name": "python",
   "nbconvert_exporter": "python",
   "pygments_lexer": "ipython3",
   "version": "3.10.8 (main, Nov  4 2022, 13:48:29) [GCC 11.2.0]"
  },
  "orig_nbformat": 4,
  "vscode": {
   "interpreter": {
    "hash": "d4d1e4263499bec80672ea0156c357c1ee493ec2b1c70f0acce89fc37c4a6abe"
   }
  }
 },
 "nbformat": 4,
 "nbformat_minor": 2
}
